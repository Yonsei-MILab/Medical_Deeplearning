{
  "nbformat": 4,
  "nbformat_minor": 0,
  "metadata": {
    "colab": {
      "name": "0-2.Pytorch_Introduction(full_version).ipynb",
      "provenance": [],
      "collapsed_sections": []
    },
    "kernelspec": {
      "name": "python3",
      "display_name": "Python 3"
    },
    "accelerator": "GPU"
  },
  "cells": [
    {
      "cell_type": "markdown",
      "metadata": {
        "id": "JKpTQpVf89wj",
        "colab_type": "text"
      },
      "source": [
        "# 0-2. Pytorch Tutorial\n",
        "\n",
        "- Tensor Basic\n",
        "- Variable Autograd\n",
        "- Linear regression\n"
      ]
    },
    {
      "cell_type": "markdown",
      "metadata": {
        "id": "UmBvWJZs9EfD",
        "colab_type": "text"
      },
      "source": [
        "## 1. Tensor Basic"
      ]
    },
    {
      "cell_type": "markdown",
      "metadata": {
        "id": "qtn7YFPKGoo_",
        "colab_type": "text"
      },
      "source": [
        "### Create Tensor"
      ]
    },
    {
      "cell_type": "code",
      "metadata": {
        "id": "p8TvvqWgGqa1",
        "colab_type": "code",
        "outputId": "8cdde1ba-cd7b-4092-ad6b-7432b468515c",
        "colab": {
          "base_uri": "https://localhost:8080/",
          "height": 163
        }
      },
      "source": [
        "import torch\n",
        "\n",
        "# rand(sizes) → [0,1)\n",
        "x = torch.rand(2,3)\n",
        "print(x)\n",
        "\n",
        "# zeros(2,3) → all zeros\n",
        "x = torch.zeros(2,3)\n",
        "print(x)\n",
        "\n",
        "# ones(2,3) → all ones\n",
        "x = torch.ones(2,3)\n",
        "print(x)\n",
        "\n",
        "# .size() → print size of the tensor\n",
        "print(x.size())\n",
        "\n",
        "# arange(start,end,step) → [start,end) with step\n",
        "x = torch.arange(0,3,0.5)\n",
        "print(x)\n"
      ],
      "execution_count": 0,
      "outputs": [
        {
          "output_type": "stream",
          "text": [
            "tensor([[0.4705, 0.4907, 0.3786],\n",
            "        [0.6908, 0.2744, 0.8867]])\n",
            "tensor([[0., 0., 0.],\n",
            "        [0., 0., 0.]])\n",
            "tensor([[1., 1., 1.],\n",
            "        [1., 1., 1.]])\n",
            "torch.Size([2, 3])\n",
            "tensor([0.0000, 0.5000, 1.0000, 1.5000, 2.0000, 2.5000])\n"
          ],
          "name": "stdout"
        }
      ]
    },
    {
      "cell_type": "markdown",
      "metadata": {
        "id": "9QQ8c0ILHAN3",
        "colab_type": "text"
      },
      "source": [
        "### Tensor Data type"
      ]
    },
    {
      "cell_type": "code",
      "metadata": {
        "id": "xEsZjAdxGqdN",
        "colab_type": "code",
        "outputId": "9bb5ce0a-043b-48b3-ea69-c536b94d0c0f",
        "colab": {
          "base_uri": "https://localhost:8080/",
          "height": 54
        }
      },
      "source": [
        "# torch.FloatTensor(size or list)\n",
        "x = torch.FloatTensor([3,5])\n",
        "print(x)\n",
        "\n",
        "# tensor.type_as(tensor_type)\n",
        "x = x.type_as(torch.IntTensor())\n",
        "print(x)"
      ],
      "execution_count": 0,
      "outputs": [
        {
          "output_type": "stream",
          "text": [
            "tensor([3., 5.])\n",
            "tensor([3, 5], dtype=torch.int32)\n"
          ],
          "name": "stdout"
        }
      ]
    },
    {
      "cell_type": "markdown",
      "metadata": {
        "id": "_4vpUIwJM8uV",
        "colab_type": "text"
      },
      "source": [
        "### Numpy to Tensor, Tensor to Numpy"
      ]
    },
    {
      "cell_type": "code",
      "metadata": {
        "id": "o_28ktRPNESW",
        "colab_type": "code",
        "outputId": "5c393e41-b47a-47af-96d8-c0fb24acda6a",
        "colab": {
          "base_uri": "https://localhost:8080/",
          "height": 126
        }
      },
      "source": [
        "import numpy as np\n",
        "\n",
        "# define numpy array\n",
        "x = np.array([[1,2,3],[4,5,6]])\n",
        "print(x)\n",
        " \n",
        "# .from_numpy → numpy to tensor\n",
        "x = torch.from_numpy(x)\n",
        "print(x)\n",
        "\n",
        "# .numpy → tensor to numpy\n",
        "x = x.numpy()\n",
        "print(x)"
      ],
      "execution_count": 0,
      "outputs": [
        {
          "output_type": "stream",
          "text": [
            "[[1 2 3]\n",
            " [4 5 6]]\n",
            "tensor([[1, 2, 3],\n",
            "        [4, 5, 6]])\n",
            "[[1 2 3]\n",
            " [4 5 6]]\n"
          ],
          "name": "stdout"
        }
      ]
    },
    {
      "cell_type": "markdown",
      "metadata": {
        "id": "FBTeBa_xNjZX",
        "colab_type": "text"
      },
      "source": [
        "### Tensor on GPU"
      ]
    },
    {
      "cell_type": "code",
      "metadata": {
        "id": "v9znOxToNmVO",
        "colab_type": "code",
        "outputId": "ff1877b3-d5d1-4f49-bd71-de2644d53871",
        "colab": {
          "base_uri": "https://localhost:8080/",
          "height": 126
        }
      },
      "source": [
        "x = torch.FloatTensor([[1,2,3],[4,5,6]])\n",
        "print(x)\n",
        "\n",
        "x = x.cuda()\n",
        "print(x)\n",
        "\n",
        "x = x.cpu()\n",
        "print(x)"
      ],
      "execution_count": 0,
      "outputs": [
        {
          "output_type": "stream",
          "text": [
            "tensor([[1., 2., 3.],\n",
            "        [4., 5., 6.]])\n",
            "tensor([[1., 2., 3.],\n",
            "        [4., 5., 6.]], device='cuda:0')\n",
            "tensor([[1., 2., 3.],\n",
            "        [4., 5., 6.]])\n"
          ],
          "name": "stdout"
        }
      ]
    },
    {
      "cell_type": "markdown",
      "metadata": {
        "id": "UVGir9q3OYeX",
        "colab_type": "text"
      },
      "source": [
        "## 2. Variable Autograd"
      ]
    },
    {
      "cell_type": "code",
      "metadata": {
        "id": "LnhwGA1vOCif",
        "colab_type": "code",
        "colab": {}
      },
      "source": [
        "# import libraries\n",
        "import torch\n",
        "from torch.autograd import Variable"
      ],
      "execution_count": 0,
      "outputs": []
    },
    {
      "cell_type": "code",
      "metadata": {
        "id": "RQ2BJmf6OZ33",
        "colab_type": "code",
        "outputId": "148b8187-e31b-4283-fadc-eefe1035526e",
        "colab": {
          "base_uri": "https://localhost:8080/",
          "height": 181
        }
      },
      "source": [
        "x = torch.Tensor([3,4])\n",
        "print(x)\n",
        "\n",
        "var_x = Variable(x)\n",
        "print(var_x)\n",
        "print('\\n')\n",
        "\n",
        "# .data → data of variable \n",
        "print(var_x.data)\n",
        "\n",
        "# .grad → gradient of variable \n",
        "print(var_x.grad)\n",
        "\n",
        "# .grad_fn → print the reference function\n",
        "#             (variable which user made = None)\n",
        "print(var_x.grad_fn)\n",
        "\n",
        "# .requires_grad → whether variable requires gradient\n",
        "print(var_x.requires_grad)\n",
        "\n",
        "var_x = Variable(x,requires_grad=True)\n",
        "var_x.requires_grad\n"
      ],
      "execution_count": 0,
      "outputs": [
        {
          "output_type": "stream",
          "text": [
            "tensor([3., 4.])\n",
            "tensor([3., 4.])\n",
            "\n",
            "\n",
            "tensor([3., 4.])\n",
            "None\n",
            "None\n",
            "False\n"
          ],
          "name": "stdout"
        },
        {
          "output_type": "execute_result",
          "data": {
            "text/plain": [
              "True"
            ]
          },
          "metadata": {
            "tags": []
          },
          "execution_count": 10
        }
      ]
    },
    {
      "cell_type": "code",
      "metadata": {
        "id": "pKlf1F_2PM3H",
        "colab_type": "code",
        "outputId": "fc22cb07-59a5-4f09-e042-c1086d038d1c",
        "colab": {
          "base_uri": "https://localhost:8080/",
          "height": 90
        }
      },
      "source": [
        "x = Variable(torch.ones(1), requires_grad=True)\n",
        "print(x)\n",
        "\n",
        "# Operation\n",
        "y = x + 5\n",
        "print(y)\n",
        "\n",
        "z = y * y * 3\n",
        "print(z)\n",
        "\n",
        "# Backpropagation\n",
        "z.backward()\n",
        "\n",
        "# Print gradient\n",
        "print(x.grad)"
      ],
      "execution_count": 0,
      "outputs": [
        {
          "output_type": "stream",
          "text": [
            "tensor([1.], requires_grad=True)\n",
            "tensor([6.], grad_fn=<AddBackward0>)\n",
            "tensor([108.], grad_fn=<MulBackward0>)\n",
            "tensor([36.])\n"
          ],
          "name": "stdout"
        }
      ]
    },
    {
      "cell_type": "markdown",
      "metadata": {
        "id": "5ZYkwgSwUBfJ",
        "colab_type": "text"
      },
      "source": [
        "## 3. Linear Regression\n",
        "\n",
        "### Linear regression y = 3x+2"
      ]
    },
    {
      "cell_type": "markdown",
      "metadata": {
        "id": "irmZ2KKPJnk2",
        "colab_type": "text"
      },
      "source": [
        "#### Without using Pytorch"
      ]
    },
    {
      "cell_type": "code",
      "metadata": {
        "id": "rf6EqrfbJixP",
        "colab_type": "code",
        "colab": {}
      },
      "source": [
        "# import library\n",
        "import numpy as np"
      ],
      "execution_count": 0,
      "outputs": []
    },
    {
      "cell_type": "code",
      "metadata": {
        "id": "DA6RVi-ZJl5O",
        "colab_type": "code",
        "colab": {}
      },
      "source": [
        "nb_data = 1000 \n",
        "\n",
        "noise = np.random.normal(0, 1, [1000,1])\n",
        "x = np.random.rand(1000,1)*20-10\n",
        "\n",
        "y = 3*x+2\n",
        "y_noise = 3*x+2+noise"
      ],
      "execution_count": 0,
      "outputs": []
    },
    {
      "cell_type": "code",
      "metadata": {
        "id": "e-VUsbByJv5e",
        "colab_type": "code",
        "outputId": "fcbafd07-1d8f-4ef0-a633-eceb2dc413a6",
        "colab": {
          "base_uri": "https://localhost:8080/",
          "height": 287
        }
      },
      "source": [
        "import matplotlib.pyplot as plt\n",
        "\n",
        "plt.scatter(x,y_noise)"
      ],
      "execution_count": 0,
      "outputs": [
        {
          "output_type": "execute_result",
          "data": {
            "text/plain": [
              "<matplotlib.collections.PathCollection at 0x7f1204879898>"
            ]
          },
          "metadata": {
            "tags": []
          },
          "execution_count": 3
        },
        {
          "output_type": "display_data",
          "data": {
            "image/png": "[encoded data removed]",
            "text/plain": [
              "<Figure size 432x288 with 1 Axes>"
            ]
          },
          "metadata": {
            "tags": []
          }
        }
      ]
    },
    {
      "cell_type": "code",
      "metadata": {
        "id": "Mv-c5N8xJv7m",
        "colab_type": "code",
        "colab": {}
      },
      "source": [
        "# Parameter initialize\n",
        "w = 0\n",
        "b = 0\n",
        "lr = 0.001\n",
        "loss = 0"
      ],
      "execution_count": 0,
      "outputs": []
    },
    {
      "cell_type": "code",
      "metadata": {
        "id": "j-3MhdtxJv9_",
        "colab_type": "code",
        "outputId": "3a95e89f-48e8-45e3-acbe-43bb8edbba8a",
        "colab": {
          "base_uri": "https://localhost:8080/",
          "height": 199
        }
      },
      "source": [
        "for epoch in range(10):\n",
        "  for d in  range(1000):\n",
        "    # forward pass\n",
        "    pred = x[d]*w+b\n",
        "    \n",
        "    # loss calculate\n",
        "    loss_i = 1/2*(y_noise[d]-pred)**2\n",
        "    loss += loss_i.item()\n",
        "    \n",
        "    # backpropagation\n",
        "    w1 = w + lr*(y_noise[d]-pred)*x[d]\n",
        "    b1 = b + lr*(y_noise[d]-pred)\n",
        "    \n",
        "    # parameter update\n",
        "    w = w1\n",
        "    b = b1\n",
        "    \n",
        "  loss = loss/1000\n",
        "  print(loss)\n",
        "  loss = 0"
      ],
      "execution_count": 0,
      "outputs": [
        {
          "output_type": "stream",
          "text": [
            "3.696368298769596\n",
            "0.6471364109885474\n",
            "0.5419746938047086\n",
            "0.5271659394541474\n",
            "0.5249320149269907\n",
            "0.5245429415091688\n",
            "0.5244581349324086\n",
            "0.5244348189750144\n",
            "0.5244273146959846\n",
            "0.5244247030023047\n"
          ],
          "name": "stdout"
        }
      ]
    },
    {
      "cell_type": "code",
      "metadata": {
        "id": "Jey9UW2QJ0dO",
        "colab_type": "code",
        "outputId": "98843aa0-4ff6-4d48-cb10-5dabac9d59f0",
        "colab": {
          "base_uri": "https://localhost:8080/",
          "height": 305
        }
      },
      "source": [
        "print(w,b)\n",
        "\n",
        "res_grad = w\n",
        "res_intp = b\n",
        "\n",
        "plt.scatter(x,y_noise)\n",
        "plt.plot(x,res_grad*x+res_intp,'r')"
      ],
      "execution_count": 0,
      "outputs": [
        {
          "output_type": "stream",
          "text": [
            "[2.99466923] [1.93233392]\n"
          ],
          "name": "stdout"
        },
        {
          "output_type": "execute_result",
          "data": {
            "text/plain": [
              "[<matplotlib.lines.Line2D at 0x7f1202022fd0>]"
            ]
          },
          "metadata": {
            "tags": []
          },
          "execution_count": 8
        },
        {
          "output_type": "display_data",
          "data": {
            "image/png": "[encoded data removed]",
            "text/plain": [
              "<Figure size 432x288 with 1 Axes>"
            ]
          },
          "metadata": {
            "tags": []
          }
        }
      ]
    },
    {
      "cell_type": "markdown",
      "metadata": {
        "id": "S6Qc6uyDMbEE",
        "colab_type": "text"
      },
      "source": [
        "#### Using Pytorch (Basis of Deep Learning)"
      ]
    },
    {
      "cell_type": "code",
      "metadata": {
        "id": "CZqlnG5r_4aT",
        "colab_type": "code",
        "colab": {}
      },
      "source": [
        "# import libraries\n",
        "import torch\n",
        "import torch.nn as nn\n",
        "import torch.optim as optim\n",
        "import torch.nn.init as init\n",
        "from torch.autograd import Variable"
      ],
      "execution_count": 0,
      "outputs": []
    },
    {
      "cell_type": "code",
      "metadata": {
        "id": "XEn0ML10W_5g",
        "colab_type": "code",
        "outputId": "5cf20e70-99d6-4bcd-b4a4-5d9aa1a13e7d",
        "colab": {
          "base_uri": "https://localhost:8080/",
          "height": 90
        }
      },
      "source": [
        "nb_data = 1000 \n",
        "\n",
        "noise = init.normal(torch.FloatTensor(nb_data,1),std=1)\n",
        "x = init.uniform(torch.Tensor(nb_data,1),-10,10)\n",
        "\n",
        "y = 3*x+2\n",
        "y_noise = 3*x+2+noise"
      ],
      "execution_count": 0,
      "outputs": [
        {
          "output_type": "stream",
          "text": [
            "/usr/local/lib/python3.6/dist-packages/ipykernel_launcher.py:3: UserWarning: nn.init.normal is now deprecated in favor of nn.init.normal_.\n",
            "  This is separate from the ipykernel package so we can avoid doing imports until\n",
            "/usr/local/lib/python3.6/dist-packages/ipykernel_launcher.py:4: UserWarning: nn.init.uniform is now deprecated in favor of nn.init.uniform_.\n",
            "  after removing the cwd from sys.path.\n"
          ],
          "name": "stderr"
        }
      ]
    },
    {
      "cell_type": "code",
      "metadata": {
        "id": "42QKcVGbXBKO",
        "colab_type": "code",
        "outputId": "fce5b62e-927f-4cc5-d77b-00b82482502a",
        "colab": {
          "base_uri": "https://localhost:8080/",
          "height": 287
        }
      },
      "source": [
        "import matplotlib.pyplot as plt\n",
        "\n",
        "plt.scatter(x.numpy(),y_noise.numpy())"
      ],
      "execution_count": 0,
      "outputs": [
        {
          "output_type": "execute_result",
          "data": {
            "text/plain": [
              "<matplotlib.collections.PathCollection at 0x7f11b648bf60>"
            ]
          },
          "metadata": {
            "tags": []
          },
          "execution_count": 11
        },
        {
          "output_type": "display_data",
          "data": {
            "image/png": "[encoded data removed]",
            "text/plain": [
              "<Figure size 432x288 with 1 Axes>"
            ]
          },
          "metadata": {
            "tags": []
          }
        }
      ]
    },
    {
      "cell_type": "code",
      "metadata": {
        "id": "CFHb5L_jXD-9",
        "colab_type": "code",
        "colab": {}
      },
      "source": [
        "model = nn.Linear(1,1)\n",
        "output = model(Variable(x))\n",
        "\n",
        "criterion = nn.MSELoss()\n",
        "optimizer = optim.SGD(model.parameters(),lr=0.01)"
      ],
      "execution_count": 0,
      "outputs": []
    },
    {
      "cell_type": "code",
      "metadata": {
        "id": "3qLVYaZ3XHXV",
        "colab_type": "code",
        "outputId": "01520eaa-89fc-490f-a53a-653c05a207de",
        "colab": {
          "base_uri": "https://localhost:8080/",
          "height": 563
        }
      },
      "source": [
        "# train\n",
        "\n",
        "nb_epoch = 300\n",
        "\n",
        "label = Variable(y_noise)\n",
        "\n",
        "for i in range(nb_epoch):\n",
        "  \n",
        "    # 1. clear the gradients of all optimized variables\n",
        "    optimizer.zero_grad()\n",
        "    \n",
        "    # 2. forward pass\n",
        "    output = model(Variable(x))\n",
        "    \n",
        "    # 3. calculate the loss\n",
        "    loss = criterion(output,label)\n",
        "    \n",
        "    # 4. backward pass\n",
        "    loss.backward()\n",
        "    \n",
        "    # 5. parameter update\n",
        "    optimizer.step()\n",
        "    \n",
        "    if i % 10 == 0:\n",
        "        print(loss)"
      ],
      "execution_count": 0,
      "outputs": [
        {
          "output_type": "stream",
          "text": [
            "tensor(459.8533, grad_fn=<MseLossBackward>)\n",
            "tensor(3.9332, grad_fn=<MseLossBackward>)\n",
            "tensor(2.9410, grad_fn=<MseLossBackward>)\n",
            "tensor(2.2778, grad_fn=<MseLossBackward>)\n",
            "tensor(1.8347, grad_fn=<MseLossBackward>)\n",
            "tensor(1.5385, grad_fn=<MseLossBackward>)\n",
            "tensor(1.3405, grad_fn=<MseLossBackward>)\n",
            "tensor(1.2082, grad_fn=<MseLossBackward>)\n",
            "tensor(1.1198, grad_fn=<MseLossBackward>)\n",
            "tensor(1.0607, grad_fn=<MseLossBackward>)\n",
            "tensor(1.0212, grad_fn=<MseLossBackward>)\n",
            "tensor(0.9948, grad_fn=<MseLossBackward>)\n",
            "tensor(0.9772, grad_fn=<MseLossBackward>)\n",
            "tensor(0.9654, grad_fn=<MseLossBackward>)\n",
            "tensor(0.9575, grad_fn=<MseLossBackward>)\n",
            "tensor(0.9523, grad_fn=<MseLossBackward>)\n",
            "tensor(0.9487, grad_fn=<MseLossBackward>)\n",
            "tensor(0.9464, grad_fn=<MseLossBackward>)\n",
            "tensor(0.9448, grad_fn=<MseLossBackward>)\n",
            "tensor(0.9438, grad_fn=<MseLossBackward>)\n",
            "tensor(0.9431, grad_fn=<MseLossBackward>)\n",
            "tensor(0.9426, grad_fn=<MseLossBackward>)\n",
            "tensor(0.9423, grad_fn=<MseLossBackward>)\n",
            "tensor(0.9421, grad_fn=<MseLossBackward>)\n",
            "tensor(0.9419, grad_fn=<MseLossBackward>)\n",
            "tensor(0.9418, grad_fn=<MseLossBackward>)\n",
            "tensor(0.9418, grad_fn=<MseLossBackward>)\n",
            "tensor(0.9417, grad_fn=<MseLossBackward>)\n",
            "tensor(0.9417, grad_fn=<MseLossBackward>)\n",
            "tensor(0.9417, grad_fn=<MseLossBackward>)\n"
          ],
          "name": "stdout"
        }
      ]
    },
    {
      "cell_type": "code",
      "metadata": {
        "id": "g9NzVzwuXI4l",
        "colab_type": "code",
        "outputId": "71945c0d-58f3-4c63-fdc8-b945ea7cacf6",
        "colab": {
          "base_uri": "https://localhost:8080/",
          "height": 35
        }
      },
      "source": [
        "param_list = list(model.parameters())\n",
        "print(param_list[0].data,param_list[1].data)"
      ],
      "execution_count": 0,
      "outputs": [
        {
          "output_type": "stream",
          "text": [
            "tensor([[2.9970]]) tensor([2.0200])\n"
          ],
          "name": "stdout"
        }
      ]
    },
    {
      "cell_type": "code",
      "metadata": {
        "id": "6GV79j-rX8mW",
        "colab_type": "code",
        "outputId": "c82793a6-5361-4a79-f48a-58d44e7b6ba3",
        "colab": {
          "base_uri": "https://localhost:8080/",
          "height": 287
        }
      },
      "source": [
        "import matplotlib.pyplot as plt\n",
        "\n",
        "res_grad = param_list[0].data.numpy()\n",
        "res_intp = param_list[1].data.numpy()\n",
        "\n",
        "plt.scatter(x.numpy(),y_noise.numpy())\n",
        "plt.plot(x.numpy(),res_grad*x.numpy()+res_intp,'r')"
      ],
      "execution_count": 0,
      "outputs": [
        {
          "output_type": "execute_result",
          "data": {
            "text/plain": [
              "[<matplotlib.lines.Line2D at 0x7f11b6442358>]"
            ]
          },
          "metadata": {
            "tags": []
          },
          "execution_count": 15
        },
        {
          "output_type": "display_data",
          "data": {
            "image/png": "[encoded data removed]",
            "text/plain": [
              "<Figure size 432x288 with 1 Axes>"
            ]
          },
          "metadata": {
            "tags": []
          }
        }
      ]
    },
    {
      "cell_type": "code",
      "metadata": {
        "id": "j-NFE0JDNKdH",
        "colab_type": "code",
        "colab": {}
      },
      "source": [
        ""
      ],
      "execution_count": 0,
      "outputs": []
    }
  ]
}