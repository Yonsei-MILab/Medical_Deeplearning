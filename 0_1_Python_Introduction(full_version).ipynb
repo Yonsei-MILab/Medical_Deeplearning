{
  "nbformat": 4,
  "nbformat_minor": 0,
  "metadata": {
    "colab": {
      "name": "0-1.Python_Introduction(full_version).ipynb",
      "provenance": [],
      "collapsed_sections": []
    },
    "kernelspec": {
      "name": "python3",
      "display_name": "Python 3"
    },
    "accelerator": "GPU"
  },
  "cells": [
    {
      "cell_type": "markdown",
      "metadata": {
        "id": "JKpTQpVf89wj",
        "colab_type": "text"
      },
      "source": [
        "# 0-1. Python Introduction\n",
        "\n",
        "- Variables and Types\n",
        "- Arithmetic Operations\n",
        "- List & Tuple & Dictionary\n",
        "- Loop\n",
        "- Function\n",
        "- Class and Objects\n"
      ]
    },
    {
      "cell_type": "markdown",
      "metadata": {
        "id": "UmBvWJZs9EfD",
        "colab_type": "text"
      },
      "source": [
        "## 1. Variables and Types"
      ]
    },
    {
      "cell_type": "code",
      "metadata": {
        "id": "Ray5BXKH9Dhj",
        "colab_type": "code",
        "outputId": "1a2f9c89-a581-4085-b2e7-55eca375c8ee",
        "colab": {
          "base_uri": "https://localhost:8080/",
          "height": 126
        }
      },
      "source": [
        "a = 10\n",
        "print(a,type(a),end=\"\\n\\n\")\n",
        "                    \n",
        "b = 3.5\n",
        "print(b,type(b),end=\"\\n\\n\")\n",
        "\n",
        "c = 'Pytorch'\n",
        "print(c,type(c),end=\"\\n\\n\")"
      ],
      "execution_count": 0,
      "outputs": [
        {
          "output_type": "stream",
          "text": [
            "10 <class 'int'>\n",
            "\n",
            "3.5 <class 'float'>\n",
            "\n",
            "Pytorch <class 'str'>\n",
            "\n"
          ],
          "name": "stdout"
        }
      ]
    },
    {
      "cell_type": "markdown",
      "metadata": {
        "id": "DEiGvOqJ9Mqb",
        "colab_type": "text"
      },
      "source": [
        "## 2. Arithmetic Operations"
      ]
    },
    {
      "cell_type": "code",
      "metadata": {
        "id": "1UJjMS708-fr",
        "colab_type": "code",
        "outputId": "4c9b2226-ead2-42e7-fdfd-99134c5a3679",
        "colab": {
          "base_uri": "https://localhost:8080/",
          "height": 108
        }
      },
      "source": [
        "a=5\n",
        "b=7\n",
        "c=8\n",
        "\n",
        "print('Add : ' + str(a+b))\n",
        "print('Subtract : ' + str(a-b))\n",
        "print('Multiply : ' + str(a*b))\n",
        "print('Divide : ' + str(a/c))\n",
        "print('Power : ' + str(c**b))"
      ],
      "execution_count": 0,
      "outputs": [
        {
          "output_type": "stream",
          "text": [
            "Add : 12\n",
            "Subtract : -2\n",
            "Multiply : 35\n",
            "Divide : 0.625\n",
            "Power : 2097152\n"
          ],
          "name": "stdout"
        }
      ]
    },
    {
      "cell_type": "markdown",
      "metadata": {
        "id": "xeWASjCF-JHl",
        "colab_type": "text"
      },
      "source": [
        "## 3. List & Tuple & Dictionary"
      ]
    },
    {
      "cell_type": "markdown",
      "metadata": {
        "id": "pYFg1x5Sfycx",
        "colab_type": "text"
      },
      "source": [
        "\n",
        "### List"
      ]
    },
    {
      "cell_type": "code",
      "metadata": {
        "id": "QehAxyzU9Ssj",
        "colab_type": "code",
        "outputId": "44cb0cce-aeb2-4f0b-bb15-149124d3a1e0",
        "colab": {
          "base_uri": "https://localhost:8080/",
          "height": 145
        }
      },
      "source": [
        "test_list = [1,2,3]\n",
        "print(test_list)\n",
        "\n",
        "# .append → add data\n",
        "test_list.append('abc')\n",
        "print(test_list)\n",
        "\n",
        "test_list.append(4)\n",
        "print(test_list,end=\"\\n\\n\")\n",
        "\n",
        "# .remove → delete data\n",
        "test_list.remove('abc')\n",
        "print(test_list)\n",
        "\n",
        "# Indexing\n",
        "print(test_list[:-1])\n",
        "\n",
        "del test_list[-1]\n",
        "print(test_list)"
      ],
      "execution_count": 0,
      "outputs": [
        {
          "output_type": "stream",
          "text": [
            "[1, 2, 3]\n",
            "[1, 2, 3, 'abc']\n",
            "[1, 2, 3, 'abc', 4]\n",
            "\n",
            "[1, 2, 3, 4]\n",
            "[1, 2, 3]\n",
            "[1, 2, 3]\n"
          ],
          "name": "stdout"
        }
      ]
    },
    {
      "cell_type": "markdown",
      "metadata": {
        "id": "qfxFBzp1fuxF",
        "colab_type": "text"
      },
      "source": [
        "###  Tuple"
      ]
    },
    {
      "cell_type": "code",
      "metadata": {
        "id": "hV6tOD6Y-BeX",
        "colab_type": "code",
        "outputId": "50f59620-3a76-4dbd-c818-6a365d6d9825",
        "colab": {
          "base_uri": "https://localhost:8080/",
          "height": 72
        }
      },
      "source": [
        "test_tuple1 = (1,2,3)\n",
        "\n",
        "print(test_tuple1)\n",
        "\n",
        "# .index(data) → show the index of data\n",
        "print(test_tuple1.index(3))\n",
        "\n",
        "test_tuple2 = (7,3,4,2,6,2,3,2)\n",
        "\n",
        "# .count(data) → count the number of data\n",
        "print(test_tuple2.count(2))"
      ],
      "execution_count": 0,
      "outputs": [
        {
          "output_type": "stream",
          "text": [
            "(1, 2, 3)\n",
            "2\n",
            "3\n"
          ],
          "name": "stdout"
        }
      ]
    },
    {
      "cell_type": "markdown",
      "metadata": {
        "id": "0cXCK4cyfzj_",
        "colab_type": "text"
      },
      "source": [
        "### Dictionary"
      ]
    },
    {
      "cell_type": "code",
      "metadata": {
        "id": "XDdOoW11-MCj",
        "colab_type": "code",
        "outputId": "72984d89-ef7c-4b16-9d44-343570d58037",
        "colab": {
          "base_uri": "https://localhost:8080/",
          "height": 126
        }
      },
      "source": [
        "test_dict = {\n",
        "    \"apple\": 0,\n",
        "    \"pear\":1,\n",
        "    \"orange\":[2,5],\n",
        "    \"strawberry\":3,\n",
        "    \"blueberry\":\"value\",\n",
        "    \"mango\":4,\n",
        "}\n",
        "\n",
        "print(test_dict)\n",
        "\n",
        "# print the dictionary keys and values\n",
        "print(test_dict.keys())\n",
        "print(test_dict.values(),end=\"\\n\\n\")\n",
        "\n",
        "# del → delete the dictionary\n",
        "del test_dict[\"blueberry\"]\n",
        "print(test_dict)\n",
        "\n",
        "# add dictionary\n",
        "test_dict[\"dragonfruit\"]=5\n",
        "print(test_dict)"
      ],
      "execution_count": 0,
      "outputs": [
        {
          "output_type": "stream",
          "text": [
            "{'apple': 0, 'pear': 1, 'orange': [2, 5], 'strawberry': 3, 'blueberry': 'value', 'mango': 4}\n",
            "dict_keys(['apple', 'pear', 'orange', 'strawberry', 'blueberry', 'mango'])\n",
            "dict_values([0, 1, [2, 5], 3, 'value', 4])\n",
            "\n",
            "{'apple': 0, 'pear': 1, 'orange': [2, 5], 'strawberry': 3, 'mango': 4}\n",
            "{'apple': 0, 'pear': 1, 'orange': [2, 5], 'strawberry': 3, 'mango': 4, 'dragonfruit': 5}\n"
          ],
          "name": "stdout"
        }
      ]
    },
    {
      "cell_type": "markdown",
      "metadata": {
        "id": "cURWBVq5-7Q1",
        "colab_type": "text"
      },
      "source": [
        "## 4. Loop"
      ]
    },
    {
      "cell_type": "code",
      "metadata": {
        "id": "lLhHNbKu-NK7",
        "colab_type": "code",
        "outputId": "19ea7a24-9459-4767-e206-71b2bb794559",
        "colab": {
          "base_uri": "https://localhost:8080/",
          "height": 235
        }
      },
      "source": [
        "for i in range(5):\n",
        "    print(i)\n",
        "\n",
        "print(\"\\n\")\n",
        "for i in range(0,-5,-1):\n",
        "    print(i)"
      ],
      "execution_count": 0,
      "outputs": [
        {
          "output_type": "stream",
          "text": [
            "0\n",
            "1\n",
            "2\n",
            "3\n",
            "4\n",
            "\n",
            "\n",
            "0\n",
            "-1\n",
            "-2\n",
            "-3\n",
            "-4\n"
          ],
          "name": "stdout"
        }
      ]
    },
    {
      "cell_type": "code",
      "metadata": {
        "id": "sNg8xOHe_fXH",
        "colab_type": "code",
        "outputId": "38a2482d-d6bf-4369-ef21-60ba1f2a8ae4",
        "colab": {
          "base_uri": "https://localhost:8080/",
          "height": 199
        }
      },
      "source": [
        "a=0\n",
        "while(a<10):\n",
        "    print(a)\n",
        "    a+=1"
      ],
      "execution_count": 0,
      "outputs": [
        {
          "output_type": "stream",
          "text": [
            "0\n",
            "1\n",
            "2\n",
            "3\n",
            "4\n",
            "5\n",
            "6\n",
            "7\n",
            "8\n",
            "9\n"
          ],
          "name": "stdout"
        }
      ]
    },
    {
      "cell_type": "markdown",
      "metadata": {
        "id": "AmvOqC-K_xxT",
        "colab_type": "text"
      },
      "source": [
        "## 5. Function"
      ]
    },
    {
      "cell_type": "code",
      "metadata": {
        "id": "5t1lbSYk_z7y",
        "colab_type": "code",
        "outputId": "da2c2a37-97f8-4eeb-d905-20a5a22dbc20",
        "colab": {
          "base_uri": "https://localhost:8080/",
          "height": 35
        }
      },
      "source": [
        "def factorial(num):\n",
        "    result = 1\n",
        "    for i in range(1,num+1):\n",
        "        result = result*i\n",
        "    return result\n",
        "\n",
        "print(factorial(5))"
      ],
      "execution_count": 0,
      "outputs": [
        {
          "output_type": "stream",
          "text": [
            "120\n"
          ],
          "name": "stdout"
        }
      ]
    },
    {
      "cell_type": "code",
      "metadata": {
        "id": "0HSbrjHP7D2j",
        "colab_type": "code",
        "outputId": "0b31e929-212e-4ab0-dd64-70d614d28e0c",
        "colab": {
          "base_uri": "https://localhost:8080/",
          "height": 35
        }
      },
      "source": [
        "def linear_func(num,w,b):\n",
        "    result = w*num+b\n",
        "    return result\n",
        "\n",
        "print(linear_func(5,4,3))"
      ],
      "execution_count": 0,
      "outputs": [
        {
          "output_type": "stream",
          "text": [
            "23\n"
          ],
          "name": "stdout"
        }
      ]
    },
    {
      "cell_type": "markdown",
      "metadata": {
        "id": "kq3J9g_T_2fc",
        "colab_type": "text"
      },
      "source": [
        "## 6. Class and Objects"
      ]
    },
    {
      "cell_type": "code",
      "metadata": {
        "id": "soAyqqhP_07z",
        "colab_type": "code",
        "outputId": "9d15d28e-3a2f-4100-fdbd-b2a71ebe1d16",
        "colab": {
          "base_uri": "https://localhost:8080/",
          "height": 108
        }
      },
      "source": [
        "class Workday(object):\n",
        "    def __init__(self,name,age,appleNum):\n",
        "        self.name = name\n",
        "        self.age = age\n",
        "        self.appleNum = 0\n",
        "        \n",
        "    def harvest(self):\n",
        "        self.appleNum += 25\n",
        "        \n",
        "    def eat(self):\n",
        "        self.appleNum -= 2\n",
        "\n",
        "worker1 = Workday(\"Soozy Jung\",\"18\")\n",
        "worker1.harvest()\n",
        "\n",
        "print('Worker = ' + str(worker1.name))\n",
        "print('Age = ' + str(worker1.age))\n",
        "print('# of Apple = ' + str(worker1.appleNum))\n",
        "\n",
        "worker1.eat()\n",
        "print('# of Apple = ' + str(worker1.appleNum))\n",
        "\n",
        "worker1.harvest()\n",
        "print('# of Apple = ' + str(worker1.appleNum))"
      ],
      "execution_count": 0,
      "outputs": [
        {
          "output_type": "stream",
          "text": [
            "Worker = Soozy Jung\n",
            "Age = 18\n",
            "# of Apple = 25\n",
            "# of Apple = 23\n",
            "# of Apple = 48\n"
          ],
          "name": "stdout"
        }
      ]
    },
    {
      "cell_type": "code",
      "metadata": {
        "id": "n17AO8CIBwfI",
        "colab_type": "code",
        "outputId": "58c29759-ebcb-47ae-d2e7-43740753244e",
        "colab": {
          "base_uri": "https://localhost:8080/",
          "height": 54
        }
      },
      "source": [
        "class Drive_car(object):\n",
        "    def __init__(self,car_name):\n",
        "        self.car_name = car_name\n",
        "        self.D_dist = 0\n",
        "        \n",
        "    def refuel(self):\n",
        "        self.D_dist += 200\n",
        "        \n",
        "    def travel(self):\n",
        "        self.D_dist -= 27\n",
        "        \n",
        "    def school(self):\n",
        "        self.D_dist -= 13\n",
        "\n",
        "Car1 = Drive_car(\"Whitecar\")\n",
        "print('Car = ' + str(Car1.car_name))\n",
        "\n",
        "Car1.refuel()\n",
        "\n",
        "Car1.school()\n",
        "\n",
        "Car1.travel()\n",
        "\n",
        "Car1.school()\n",
        "print('Possible driving distance = ' + str(Car1.D_dist))"
      ],
      "execution_count": 0,
      "outputs": [
        {
          "output_type": "stream",
          "text": [
            "Car = Whitecar\n",
            "Possible driving distance = 147\n"
          ],
          "name": "stdout"
        }
      ]
    },
    {
      "cell_type": "code",
      "metadata": {
        "id": "L3qV8z8KEURj",
        "colab_type": "code",
        "colab": {}
      },
      "source": [
        ""
      ],
      "execution_count": 0,
      "outputs": []
    },
    {
      "cell_type": "code",
      "metadata": {
        "id": "SviBrBOGEDAe",
        "colab_type": "code",
        "colab": {}
      },
      "source": [
        ""
      ],
      "execution_count": 0,
      "outputs": []
    }
  ]
}